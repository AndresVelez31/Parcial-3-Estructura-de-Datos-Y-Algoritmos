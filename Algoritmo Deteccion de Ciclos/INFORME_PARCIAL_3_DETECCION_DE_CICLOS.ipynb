{
 "cells": [
  {
   "cell_type": "markdown",
   "metadata": {
    "colab_type": "text",
    "id": "view-in-github"
   },
   "source": [
    "<a href=\"https://colab.research.google.com/github/AndresVelez31/Estructura-de-Datos/blob/main/INFORME_PARCIAL_3_DETECCION_DE_CICLOS.ipynb\" target=\"_parent\"><img src=\"https://colab.research.google.com/assets/colab-badge.svg\" alt=\"Open In Colab\"/></a>"
   ]
  },
  {
   "cell_type": "markdown",
   "metadata": {
    "id": "T5NdQnc-aufS"
   },
   "source": [
    "<h1 align=\"center\">Informe Parcial 3</h1>\n",
    "<h1 align=\"center\">Algoritmo de Detección de Ciclos</h1>"
   ]
  },
  {
   "cell_type": "markdown",
   "metadata": {
    "id": "yzmeooURULVq"
   },
   "source": [
    "\n",
    "*Realizado por: Andres Felipe Velez Alvarez*"
   ]
  },
  {
   "cell_type": "markdown",
   "metadata": {
    "id": "yX3q54F7U6yl"
   },
   "source": [
    "## **Documentacion - Codigo y Descripcion**"
   ]
  },
  {
   "cell_type": "markdown",
   "metadata": {
    "id": "UlHoCRxxVoRC"
   },
   "source": [
    "### Metodo `contiene_ciclo`"
   ]
  },
  {
   "cell_type": "markdown",
   "metadata": {
    "id": "kj0vFMjmw9BB"
   },
   "source": [
    "\n",
    "``` python\n",
    "def contiene_ciclo(grafo):\n",
    "    if not isinstance(grafo, dict):\n",
    "        raise ValueError(\"El grafo debe ser un diccionario de listas de adyacencia.\")\n",
    "    \n",
    "    visitados = set()  \n",
    "   \n",
    "    def dfs(nodo, padre):\n",
    "        visitados.add(nodo)\n",
    "        \n",
    "        for vecino in grafo.get(nodo, []):\n",
    "            if vecino not in visitados:  \n",
    "                if dfs(vecino, nodo):  \n",
    "                    return True\n",
    "            elif vecino != padre:\n",
    "                return True\n",
    "        return False\n",
    "\n",
    "    for nodo in grafo:\n",
    "        if nodo not in visitados:  \n",
    "            if dfs(nodo, None):  \n",
    "                return True  \n",
    "\n",
    "    return False\n",
    "```\n",
    "\n",
    "El método `contiene_ciclo` es una función diseñada para verificar si un grafo no dirigido contiene un ciclo. Utiliza el algoritmo de búsqueda en profundidad (DFS) para recorrer el grafo, y un registro de los nodos padres para evitar falsos positivos en la detección de ciclos.\n",
    "\n",
    "Esta función devuelve `True` si encuentra un ciclo en el grafo y `False` si no lo encuentra.\n",
    "\n",
    "\n"
   ]
  },
  {
   "cell_type": "markdown",
   "metadata": {
    "id": "ua66cHgTQudn"
   },
   "source": [
    "####**Parametros del metodo:**"
   ]
  },
  {
   "cell_type": "markdown",
   "metadata": {
    "id": "K3HsdqruQs9I"
   },
   "source": [
    "\n",
    "```python\n",
    "def contiene_ciclo(grafo):\n",
    "```\n",
    "En este metodo se recibe el parametro grafo:\n",
    "\n",
    "- *`grafo:`* Este es un diccionario que representa un grafo no dirigido usando listas de adyacencia. Cada clave en el diccionario es un nodo, y el valor asociado es una lista de nodos adyacentes. Por ejemplo, `{1: [2, 3], 2: [1, 4]}` representa un grafo en el que:\n",
    "  - El nodo `1` está conectado a `2` y `3`.\n",
    "  - El nodo `2` está conectado a `1` y `4`."
   ]
  },
  {
   "cell_type": "markdown",
   "metadata": {
    "id": "3SAcRyRlQfk0"
   },
   "source": [
    "####**Funcionamiento del Metodo**"
   ]
  },
  {
   "cell_type": "markdown",
   "metadata": {
    "id": "AEKRebrSQdRL"
   },
   "source": [
    "\n",
    "\n",
    "**1. Verificación de Tipo:**\n",
    "```python\n",
    "  if not isinstance(grafo, dict):\n",
    "      raise ValueError(\"El grafo debe ser un diccionario de listas de adyacencia.\")\n",
    "```\n",
    "\n",
    "- La función primero verifica si el parámetro grafo es un diccionario.\n",
    "- Si grafo no es un diccionario, lanza un ValueError para alertar al usuario de que el grafo debe estar representado como un diccionario de listas de adyacencia.\n",
    "- Esto asegura que el formato de entrada es el adecuado antes de procesar el grafo.\n",
    "\n",
    "\n",
    "**2. Inicialización del Conjunto `visitados`:**\n",
    "```python\n",
    "  visitados = set()\n",
    "```\n",
    "\n",
    "Se crea un conjunto llamado `visitados` para almacenar los nodos que ya han sido explorados. Esto evita procesar los mismos nodos varias veces y ayuda a prevenir falsos positivos de ciclos.\n",
    "\n",
    "\n"
   ]
  },
  {
   "cell_type": "markdown",
   "metadata": {
    "id": "tIdU1mijMfBk"
   },
   "source": [
    "#####**3. Definición del método auxiliar `dfs`**"
   ]
  },
  {
   "cell_type": "markdown",
   "metadata": {
    "id": "steHE8K2MYcw"
   },
   "source": [
    "\n",
    "```python\n",
    "    def dfs(nodo, padre):\n",
    "        visitados.add(nodo)\n",
    "        \n",
    "        for vecino in grafo.get(nodo, []):\n",
    "            if vecino not in visitados:  \n",
    "                if dfs(vecino, nodo):  \n",
    "                    return True\n",
    "            elif vecino != padre:  \n",
    "                return True\n",
    "        return False\n",
    "```\n",
    "\n",
    "**Parametros del metodo:**\n",
    "```python\n",
    "  def dfs(nodo, padre):\n",
    "```\n",
    "La función dfs toma dos parámetros:\n",
    "\n",
    "- *`nodo:`* el nodo actual que estamos visitando.\n",
    "- *`padre:`* el nodo desde el cual se llegó al nodo actual.\n",
    "\n",
    "\n",
    "**Funcionamiento del metodo:**\n",
    "\n",
    "**3.1. Marcado del Nodo como Visitado:**\n",
    "```python\n",
    "  visitados.add(nodo)\n",
    "```\n",
    "Cuando se llama a dfs, se marca el nodo actual (nodo) como visitado añadiéndolo al conjunto visitados.\n",
    "\n",
    "\n",
    "**3.2. Iteración sobre los Vecinos del Nodo Actual:**\n",
    "```python\n",
    "  for vecino in grafo.get(nodo, []):\n",
    "```\n",
    "\n",
    "Esta línea recorre todos los vecinos del nodo actual (`nodo`).\n",
    "\n",
    "`grafo.get(nodo, [])` obtiene la lista de vecinos del nodo actual; si el nodo no tiene vecinos (o no está en el grafo), devuelve una lista vacía `[]`.\n",
    "\n",
    "\n",
    "**3.3. Verificación de Vecinos No Visitados:**\n",
    "```python\n",
    "  if vecino not in visitados:\n",
    "      if dfs(vecino, nodo):\n",
    "          return True\n",
    "```\n",
    "- Si el vecino no ha sido visitado (es decir, no está en el conjunto `visitados`), se llama recursivamente a `dfs` con el vecino como el nuevo `nodo` y el nodo actual como el `padre`.\n",
    "\n",
    "- Si la llamada recursiva a `dfs` devuelve `True`, significa que se ha encontrado un ciclo en esta rama, por lo que `dfs` también devuelve `True` inmediatamente.\n",
    "\n",
    "\n",
    "**3.4. Detección de Ciclo:**\n",
    "```python\n",
    "  elif vecino != padre:\n",
    "      return True\n",
    "```\n",
    "\n",
    "- Si el vecino ya ha sido visitado y **no es el nodo padre** (es decir, es otro nodo al que ya hemos llegado en el recorrido), entonces se ha detectado un ciclo.\n",
    "\n",
    "- En un grafo no dirigido, si encontramos un nodo que ya ha sido visitado y no es el padre del nodo actual, hemos encontrado un camino de regreso, lo cual indica un ciclo.\n",
    "\n",
    "- En este caso, `dfs` devuelve `True` para indicar la detección de un ciclo.\n",
    "\n",
    "\n",
    "**3.5. Fin de la Función `dfs` (No se Encontró un Ciclo en esta Rama)**\n",
    "```python\n",
    "  return False\n",
    "```\n",
    "\n",
    "Si ninguno de los vecinos provoca la detección de un ciclo, `dfs` devuelve `False`, lo que significa que no se encontró ningún ciclo en esta rama del DFS."
   ]
  },
  {
   "cell_type": "markdown",
   "metadata": {
    "id": "x_0Qdp0PQD6-"
   },
   "source": [
    "#####**4. Ejecución de DFS en Cada Componente Conectada del Grafo**\n",
    "\n"
   ]
  },
  {
   "cell_type": "markdown",
   "metadata": {
    "id": "Ve1WHv8kPHxh"
   },
   "source": [
    "Después de definir la función `dfs`, volvemos a la función principal `contiene_ciclo`.\n",
    "\n",
    "```python\n",
    "  for nodo in grafo:\n",
    "      if nodo not in visitados:\n",
    "          if dfs(nodo, None):\n",
    "              return True\n",
    "```\n",
    "\n",
    "**4.1. Bucle para Cada Nodo en el Grafo:**\n",
    "- `contiene_ciclo` recorre cada nodo en el grafo.\n",
    "- Para cada nodo que no ha sido visitado, inicia una búsqueda DFS desde ese nodo.\n",
    "- La llamada inicial a `dfs` establece `padre `como `None` porque no hay un nodo padre para el nodo de inicio.\n",
    "\n",
    "**4.2. Detección de Ciclo en Componentes Desconectadas:**\n",
    "- Si la llamada a `dfs` en una componente devuelve `True`, significa que se ha encontrado un ciclo en esa componente. En este caso, `contiene_ciclo` también devuelve `True`, deteniendo la búsqueda.\n",
    "- Este paso es necesario para asegurar que el método también detecte ciclos en grafos desconectados.\n"
   ]
  },
  {
   "cell_type": "markdown",
   "metadata": {
    "id": "dI8YXm4zTSJB"
   },
   "source": [
    "#####**5. No se Encontraron Ciclos (Retorna `False`):**"
   ]
  },
  {
   "cell_type": "markdown",
   "metadata": {
    "id": "mdqbfEqFTIa1"
   },
   "source": [
    "```python\n",
    "    return False\n",
    "```\n",
    "\n",
    "Si se recorrieron todos los nodos del grafo sin encontrar un ciclo, `contiene_ciclo` devuelve `False`, indicando que el grafo es acíclico.\n",
    "\n",
    "\n"
   ]
  },
  {
   "cell_type": "markdown",
   "metadata": {
    "id": "TH3Ittu6ameA"
   },
   "source": [
    "## Codigo Completo"
   ]
  },
  {
   "cell_type": "code",
   "execution_count": null,
   "metadata": {
    "colab": {
     "base_uri": "https://localhost:8080/"
    },
    "id": "hMjRRP3tUeZJ",
    "outputId": "11d5f366-b67e-43e7-a3a9-0e1c68c3a770"
   },
   "outputs": [
    {
     "name": "stdout",
     "output_type": "stream",
     "text": [
      "Ejemplo 1 - Grafo sin ciclo: False\n",
      "Ejemplo 2 - Grafo con ciclo: True\n",
      "Ejemplo 3 - Grafo acíclico (árbol): False\n",
      "Ejemplo 4 - Grafo desconectado con ciclo: True\n",
      "Ejemplo 5 - Grafo con múltiples ciclos: True\n"
     ]
    }
   ],
   "source": [
    "def contiene_ciclo(grafo):\n",
    "    if not isinstance(grafo, dict):\n",
    "        raise ValueError(\"El grafo debe ser un diccionario de listas de adyacencia.\")\n",
    "\n",
    "    visitados = set()  # Para llevar un registro de los nodos visitados\n",
    "\n",
    "    # Función auxiliar para DFS\n",
    "    def dfs(nodo, padre):\n",
    "        visitados.add(nodo)\n",
    "\n",
    "        # Recorre todos los vecinos del nodo actual\n",
    "        for vecino in grafo.get(nodo, []):\n",
    "            if vecino not in visitados:  # Si el vecino no ha sido visitado\n",
    "                if dfs(vecino, nodo):  # Llamada recursiva al vecino\n",
    "                    return True\n",
    "            elif vecino != padre:  # Si el vecino ha sido visitado y no es el padre, hay un ciclo\n",
    "                return True\n",
    "        return False\n",
    "\n",
    "    # Ejecutamos DFS en cada componente conectado del grafo\n",
    "    for nodo in grafo:\n",
    "        if nodo not in visitados:  # Si el nodo no ha sido visitado, iniciamos DFS desde él\n",
    "            if dfs(nodo, None):  # Llamada inicial sin padre (None)\n",
    "                return True  # Si se detecta un ciclo, se devuelve True\n",
    "\n",
    "    return False  # Si no se encuentra ningún ciclo, se devuelve False\n",
    "\n",
    "\n",
    "# Ejemplo original\n",
    "grafo = {\n",
    "    1: [2, 3],\n",
    "    2: [1, 4],\n",
    "    3: [1],\n",
    "    4: [2]\n",
    "}\n",
    "print(\"Ejemplo 1 - Grafo sin ciclo:\", contiene_ciclo(grafo))  # Debería imprimir False\n",
    "\n",
    "# Ejemplo 2: Grafo con ciclo simple\n",
    "grafo_ciclo = {\n",
    "    1: [2],\n",
    "    2: [1, 3],\n",
    "    3: [2, 1]  # Crea un ciclo entre 1-2-3-1\n",
    "}\n",
    "print(\"Ejemplo 2 - Grafo con ciclo:\", contiene_ciclo(grafo_ciclo))  # Debería imprimir True\n",
    "\n",
    "# Ejemplo 3: Grafo acíclico (árbol)\n",
    "grafo_arbol = {\n",
    "    1: [2, 3],\n",
    "    2: [1, 4, 5],\n",
    "    3: [1],\n",
    "    4: [2],\n",
    "    5: [2]\n",
    "}\n",
    "print(\"Ejemplo 3 - Grafo acíclico (árbol):\", contiene_ciclo(grafo_arbol))  # Debería imprimir False\n",
    "\n",
    "# Ejemplo 4: Grafo desconectado con ciclo en una componente\n",
    "grafo_desconectado_con_ciclo = {\n",
    "    1: [2],\n",
    "    2: [1],\n",
    "    3: [4],\n",
    "    4: [3, 5],\n",
    "    5: [4, 3]  # Crea un ciclo entre 3-4-5-3\n",
    "}\n",
    "print(\"Ejemplo 4 - Grafo desconectado con ciclo:\", contiene_ciclo(grafo_desconectado_con_ciclo))  # Debería imprimir True\n",
    "\n",
    "# Ejemplo 5: Grafo con múltiples ciclos\n",
    "grafo_multiples_ciclos = {\n",
    "    1: [2, 3],\n",
    "    2: [1, 3, 4],\n",
    "    3: [1, 2],\n",
    "    4: [2, 5],\n",
    "    5: [4, 6],\n",
    "    6: [5, 2]  # Crea ciclos entre 1-2-3-1 y 2-4-5-6-2\n",
    "}\n",
    "print(\"Ejemplo 5 - Grafo con múltiples ciclos:\", contiene_ciclo(grafo_multiples_ciclos))  # Debería imprimir True\n"
   ]
  }
 ],
 "metadata": {
  "colab": {
   "collapsed_sections": [
    "kj0vFMjmw9BB"
   ],
   "include_colab_link": true,
   "provenance": []
  },
  "kernelspec": {
   "display_name": "Python 3",
   "name": "python3"
  },
  "language_info": {
   "name": "python"
  }
 },
 "nbformat": 4,
 "nbformat_minor": 0
}
