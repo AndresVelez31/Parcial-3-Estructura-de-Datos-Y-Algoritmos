{
  "nbformat": 4,
  "nbformat_minor": 0,
  "metadata": {
    "colab": {
      "provenance": [],
      "collapsed_sections": [
        "UlHoCRxxVoRC",
        "cptA78Mdb36W",
        "tCvAP_RRjnWH",
        "DgVtPJydVZr1",
        "8s_pQfBLqrLQ",
        "TH3Ittu6ameA"
      ],
      "include_colab_link": true
    },
    "kernelspec": {
      "name": "python3",
      "display_name": "Python 3"
    },
    "language_info": {
      "name": "python"
    }
  },
  "cells": [
    {
      "cell_type": "markdown",
      "metadata": {
        "id": "view-in-github",
        "colab_type": "text"
      },
      "source": [
        "<a href=\"https://colab.research.google.com/github/AndresVelez31/Estructura-de-Datos/blob/main/INFORME_PARCIAL_3_KRUSKAL.ipynb\" target=\"_parent\"><img src=\"https://colab.research.google.com/assets/colab-badge.svg\" alt=\"Open In Colab\"/></a>"
      ]
    },
    {
      "cell_type": "markdown",
      "source": [
        "<h1 align=\"center\">Informe Parcial 3</h1>\n",
        "<h1 align=\"center\">Algoritmo de Kruskal</h1>"
      ],
      "metadata": {
        "id": "T5NdQnc-aufS"
      }
    },
    {
      "cell_type": "markdown",
      "source": [
        "\n",
        "*Realizado por: Andres Felipe Velez Alvarez*"
      ],
      "metadata": {
        "id": "yzmeooURULVq"
      }
    },
    {
      "cell_type": "markdown",
      "source": [
        "## **Documentacion - Codigo y Descripcion**"
      ],
      "metadata": {
        "id": "yX3q54F7U6yl"
      }
    },
    {
      "cell_type": "markdown",
      "source": [
        "### Clase `UnionFind`"
      ],
      "metadata": {
        "id": "UlHoCRxxVoRC"
      }
    },
    {
      "cell_type": "markdown",
      "source": [
        "\n",
        "``` python\n",
        "class UnionFind:\n",
        "```\n",
        "\n",
        "La clase `UnionFind` implementa una estructura de datos conocida como Union-Find o Disjoint Set Union (DSU), que permite manejar particiones de conjuntos de elementos. Esta estructura es útil en algoritmos de grafos, como el algoritmo de Kruskal, para detectar y evitar ciclos mientras se construye un Árbol Generador Mínimo (AGM).\n",
        "\n"
      ],
      "metadata": {
        "id": "kj0vFMjmw9BB"
      }
    },
    {
      "cell_type": "markdown",
      "source": [
        "#### Metodo `__init__`\n"
      ],
      "metadata": {
        "id": "cptA78Mdb36W"
      }
    },
    {
      "cell_type": "markdown",
      "source": [
        "\n",
        "```python\n",
        "  def __init__(self, vertices):\n",
        "        self.padre = {v: v for v in vertices}\n",
        "        self.rango = {v: 0 for v in vertices}\n",
        "```\n",
        "El método `__init__` es el constructor de la clase `UnionFind`. Su propósito es inicializar la estructura de datos de Union-Find, asignando un conjunto independiente a cada nodo en `vertices`. Esto significa que, al inicio, cada nodo es su propio representante (o raíz), y el rango de cada conjunto es `0`.\n",
        "\n",
        "**Parametros del metodo:**\n",
        "```python\n",
        " def __init__(self, vertices):\n",
        "```\n",
        "\n",
        "- ***`self`:*** Representa la instancia actual de la clase UnionFind. Permite acceder y modificar los atributos de la instancia (self.padre y self.rango).\n",
        "\n",
        "- ***`vertices`:*** Un iterable (por ejemplo, una lista o un conjunto) de nodos que formarán parte de los conjuntos disjuntos. Cada nodo se inicializa como su propio conjunto.\n",
        "\n",
        "**Funcionamiento del metodo**\n",
        "\n",
        "**1. Atributos Inicializados**\n",
        "\n",
        "- `self.padre:` Un diccionario que asigna a cada nodo como su propio representante o \"padre\". Esto significa que al inicio, cada nodo pertenece a su propio conjunto, por lo que cada nodo es su propia raíz.\n",
        "\n",
        "  - Ejemplo: Si `vertices = [1, 2, 3]`, entonces `self.padre = {1: 1, 2: 2, 3: 3}`.\n",
        "\n",
        "- `self.rango`: Otro diccionario que asigna un rango inicial de `0` a cada nodo. El rango representa una estimación de la profundidad del árbol que representa cada conjunto. Este rango se usa en la operación de unión para optimizar la estructura de los árboles, manteniéndolos balanceados.\n",
        "\n",
        "  - Ejemplo: Con `vertices = [1, 2, 3]`, el rango inicial sería `self.rango = {1: 0, 2: 0, 3: 0}`.\n"
      ],
      "metadata": {
        "id": "P8uyekX6b6zP"
      }
    },
    {
      "cell_type": "markdown",
      "source": [
        "\n",
        "#### Metodo `encontrar`"
      ],
      "metadata": {
        "id": "tCvAP_RRjnWH"
      }
    },
    {
      "cell_type": "markdown",
      "source": [
        "``` python\n",
        "  def encontrar(self, v):\n",
        "        if self.padre[v] != v:\n",
        "            self.padre[v] = self.encontrar(self.padre[v])\n",
        "        return self.padre[v]\n",
        "```\n",
        "\n",
        "El método `encontrar` busca el representante o raíz del conjunto al que pertenece un nodo `v`. Este método usa una técnica de optimización llamada **compresión de caminos** (path compression), que reduce la profundidad del árbol en cada búsqueda, haciendo que futuras operaciones sean más rápidas.\n",
        "\n",
        "\n",
        "**Parametros del metodo:**\n",
        "```python\n",
        "def encontrar(self, v):\n",
        "```\n",
        "\n",
        "- ***`self`:*** Referencia a la instancia actual de la clase `UnionFind`, que permite acceder y modificar self.padre.\n",
        "\n",
        "- ***`v`:*** El nodo del cual queremos encontrar el representante del conjunto.\n",
        "\n",
        "\n",
        "**Funcionamiento del metodo**\n",
        "\n",
        "**1. Verificar si v es su propio representante**\n",
        "```python\n",
        "  if self.padre[v] != v:\n",
        "```\n",
        "- Si `self.padre[v] == v`, significa que `v` es el representante de su conjunto (es su propia raíz).\n",
        "\n",
        "- Si `self.padre[v] != v`, significa que `v` apunta a otro nodo, lo que indica que no es el representante del conjunto.\n",
        "\n",
        "\n",
        "**2. Compresión de Caminos: **\n",
        "```python\n",
        "  self.padre[v] = self.encontrar(self.padre[v])\n",
        "```\n",
        "- Si `v` no es su propio representante, llama recursivamente a `encontrar` sobre `self.padre[v]` para buscar el representante.\n",
        "\n",
        "- Cuando encuentra el representante, actualiza `self.padre[v]` para que `v` apunte directamente al representante. Esto es la compresión de caminos, que aplanará la estructura del árbol, haciendo futuras búsquedas más eficientes.\n",
        "\n",
        "\n",
        "**3. Devolver el Representante:**\n",
        "```python\n",
        "  return self.padre[v]\n",
        "```\n",
        "- Finalmente, retorna el representante del conjunto de `v`, que ahora es el valor de `self.padre[v]`."
      ],
      "metadata": {
        "id": "2BluaTwtjnWH"
      }
    },
    {
      "cell_type": "markdown",
      "source": [
        "\n",
        "#### Metodo `unir`"
      ],
      "metadata": {
        "id": "DgVtPJydVZr1"
      }
    },
    {
      "cell_type": "markdown",
      "source": [
        "``` python\n",
        "  def unir(self, u, v):\n",
        "          raiz_u = self.encontrar(u)\n",
        "          raiz_v = self.encontrar(v)\n",
        "\n",
        "          if raiz_u == raiz_v:\n",
        "              return False\n",
        "\n",
        "          if self.rango[raiz_u] < self.rango[raiz_v]:\n",
        "              self.padre[raiz_u] = raiz_v\n",
        "          else:\n",
        "              self.padre[raiz_v] = raiz_u\n",
        "              if self.rango[raiz_u] == self.rango[raiz_v]:\n",
        "                  self.rango[raiz_u] += 1\n",
        "          return True\n",
        "```\n",
        "\n",
        "El método `unir` combina los conjuntos de dos nodos `u` y `v`. Si `u` y `v` están en el mismo conjunto, no se hace nada y se devuelve `False`. Si pertenecen a conjuntos diferentes, se unen y se devuelve `True`. Este método usa unión por rango para optimizar la estructura del árbol, manteniendo los conjuntos balanceados.\n",
        "\n",
        "**Parametros del metodo:**\n",
        "```python\n",
        "  def unir(self, u, v):\n",
        "```\n",
        "\n",
        "- ***`self`:*** hace referencia a la instancia actual de la clase `MinHeap`. Esto permite que el método acceda al atributo `self.heap`, que es la lista donde se almacenan los elementos del min-heap.\n",
        "\n",
        "- ***`u`:*** Primer nodo cuyos conjuntos deseamos unir.\n",
        "\n",
        "- ***`v`:*** Segundo nodo cuyos conjuntos deseamos unir.\n",
        "\n",
        "\n",
        "**Funcionamiento del metodo**\n",
        "\n",
        "**1. Encontrar las Raíces de u y v**\n",
        "```python\n",
        "  raiz_u = self.encontrar(u)\n",
        "  raiz_v = self.encontrar(v)\n",
        "```\n",
        "\n",
        "- Usa el método `encontrar` para encontrar el representante (o raíz) del conjunto de `u` (`raiz_u`) y el representante del conjunto de `v` (`raiz_v`).\n",
        "\n",
        "- Si ambos representantes son iguales, significa que `u` y `v` ya están en el mismo conjunto.\n",
        "\n",
        "\n",
        "**2. Verificar si u y v ya están en el Mismo Conjunto**\n",
        "```python\n",
        "  if raiz_u == raiz_v:\n",
        "      return False\n",
        "```\n",
        "Si `raiz_u` es igual a `raiz_v`, entonces `u` y `v` ya pertenecen al mismo conjunto. No es necesario unirlos, por lo que el método devuelve `False`.\n",
        "\n",
        "\n",
        "**3. Unión por Rango**\n",
        "\n",
        "1. Comparar los Rangos de las Raíces:\n",
        "\n",
        "  ```python\n",
        "     if self.rango[raiz_u] < self.rango[raiz_v]:\n",
        "        self.padre[raiz_u] = raiz_v\n",
        "  ```\n",
        "\n",
        "  - Si el rango de `raiz_u` es menor que el de `raiz_v`, `raiz_u` se convierte en hijo de `raiz_v`. Esto hace que el árbol del conjunto de `u` se conecte al árbol de `v`, manteniendo la estructura balanceada.\n",
        "\n",
        "2. Si el Rango de raiz_v es Menor o Igual al de raiz_u:\n",
        "\n",
        "  ```python\n",
        "    else:\n",
        "      self.padre[raiz_v] = raiz_u\n",
        "      if self.rango[raiz_u] == self.rango[raiz_v]:\n",
        "          self.rango[raiz_u] += 1\n",
        "  ```\n",
        "\n",
        "  - Si el rango de `raiz_v` es menor, `raiz_v` se convierte en hijo de `raiz_u`.\n",
        "\n",
        "  - Si ambos rangos son iguales, se puede escoger cualquiera como raíz, pero se incrementa el rango de la nueva raíz (`raiz_u`) en `1` para indicar el aumento en la profundidad del árbol.\n",
        "\n",
        "Esta estrategia mantiene los árboles de conjuntos más planos, lo que optimiza futuras operaciones de búsqueda.\n",
        "\n",
        "\n",
        "**4. Retornar True:**\n",
        "```python\n",
        "  return True\n",
        "```\n",
        "Si `u` y `v` estaban en conjuntos diferentes y se unieron, el método devuelve `True`."
      ],
      "metadata": {
        "id": "8kjpWb3EqFSd"
      }
    },
    {
      "cell_type": "markdown",
      "source": [
        "\n",
        "### Metodo `kruskal`"
      ],
      "metadata": {
        "id": "8s_pQfBLqrLQ"
      }
    },
    {
      "cell_type": "markdown",
      "source": [
        "``` python\n",
        "  def kruskal(grafo):\n",
        "    aristas = sorted(grafo, key=lambda x: x[2])\n",
        "\n",
        "    vertices = set()\n",
        "    for arista in grafo:\n",
        "        vertices.update([arista[0], arista[1]])\n",
        "\n",
        "    union_find = UnionFind(vertices)\n",
        "    agm = []  \n",
        "\n",
        "    for arista in aristas:\n",
        "        u, v, peso = arista\n",
        "        if union_find.unir(u, v):\n",
        "            agm.append(arista)\n",
        "\n",
        "    return agm\n",
        "```\n",
        "\n",
        "La función `kruskal` encuentra el **Árbol Generador Mínimo** de un grafo. Un Árbol Generador Mínimo es un subconjunto de aristas de un grafo no dirigido que conecta todos los nodos con el costo total mínimo, sin formar ciclos. El **algoritmo de Kruskal** es un algoritmo que selecciona las aristas de menor peso primero, y para evitar ciclos, usa una estructura de datos Union-Find para verificar si dos nodos pertenecen al mismo conjunto antes de unirlos.\n",
        "\n",
        "Retorna una lista `agm` con las aristas que forman el Árbol Generador Mínimo.\n",
        "\n",
        "**Parametros del metodo:**\n",
        "```python\n",
        "   def kruskal(grafo):\n",
        "```\n",
        "\n",
        "- ***`grafo`:*** Una lista de tuplas donde cada tupla representa una arista en el formato (u, v, peso).\n",
        "  - `u` y `v` son los nodos conectados por la arista.\n",
        "  - `peso` es el costo o peso de la arista.\n",
        "\n",
        "\n",
        "**Funcionamiento del metodo**\n",
        "\n",
        "**1. Ordenar las Aristas por Peso:**\n",
        "```python\n",
        "  aristas = sorted(grafo, key=lambda x: x[2])\n",
        "```\n",
        "\n",
        "- Primero, ordena todas las aristas en orden ascendente según el peso (costo) de cada arista. Esto asegura que las aristas de menor peso se consideren primero.\n",
        "\n",
        "- Este paso es crucial en el algoritmo de Kruskal, ya que queremos construir el AGM seleccionando las aristas menos pesadas sin formar ciclos.\n",
        "\n",
        "- Ejemplo: Si el grafo tiene las aristas `[(1, 2, 4), (1, 3, 3), (2, 4, 2), (3, 4, 5)]`, después de ordenar, obtenemos: `[(2, 4, 2), (1, 3, 3), (1, 2, 4), (3, 4, 5)]`.\n",
        "\n",
        "\n",
        "**2. Inicializar el Conjunto de Nodos Únicos:**\n",
        "```python\n",
        "  vertices = set()\n",
        "  for arista in grafo:\n",
        "    vertices.update([arista[0], arista[1]])\n",
        "\n",
        "```\n",
        "- Aquí, se recopilan todos los nodos únicos en el grafo para formar el conjunto `vertices`.\n",
        "\n",
        "- Este conjunto de nodos es necesario para inicializar la estructura `UnionFind`, que permite manejar los conjuntos disjuntos y evitar ciclos.\n",
        "\n",
        "- Ejemplo: Si el grafo tiene las aristas `[(1, 2, 4), (1, 3, 3), (2, 4, 2), (3, 4, 5)]`, los nodos únicos serían `{1, 2, 3, 4}`.\n",
        "\n",
        "\n",
        "**3. Inicializar Union-Find y la Lista del AGM**\n",
        "```python\n",
        "  union_find = UnionFind(vertices)\n",
        "  agm = []\n",
        "```\n",
        "\n",
        "- Se inicializa una instancia de `UnionFind` con todos los nodos en `vertices`. Esto permite controlar qué nodos están en el mismo conjunto y evitar ciclos.\n",
        "\n",
        "- `agm` es una lista vacía donde se irán agregando las aristas seleccionadas para el AGM.\n",
        "\n",
        "\n",
        "**4. Recorrer las Aristas Ordenadas y Construir el AGM**\n",
        "```python\n",
        "  for arista in aristas:\n",
        "    u, v, peso = arista\n",
        "    if union_find.unir(u, v):\n",
        "        agm.append(arista)\n",
        "```\n",
        "\n",
        "- Recorre cada arista en la lista `aristas`, que ya está ordenada por peso.\n",
        "\n",
        "- Para cada arista `(u, v, peso)`:\n",
        "  - Usa el método `unir` de `UnionFind` para intentar unir los conjuntos de los nodos `u` y `v`.\n",
        "\n",
        "  - La función `unir` verifica si `u` y `v` están en conjuntos diferentes (es decir, no formarán un ciclo):\n",
        "\n",
        "    - Si `u` y `v` **están en diferentes conjuntos**, `unir` los combina en un solo conjunto y devuelve `True`. La arista `(u, v, peso)` se añade a `agm`\n",
        "\n",
        "    - Si `u` y `v` **ya están en el mismo conjunto**, `unir` devuelve `False` y la arista se omite para evitar un ciclo en el AGM.\n",
        "\n",
        "- Este proceso de agregar aristas continúa hasta que se hayan recorrido todas las aristas o hasta que `agm` contenga `|V| - 1` aristas (donde `|V|` es el número de nodos), que es la cantidad máxima necesaria para conectar todos los nodos sin ciclos.\n",
        "\n",
        "\n",
        "**5. Retornar el AGM:**\n",
        "```python\n",
        "  return agm\n",
        "```\n",
        "- Cuando todas las aristas han sido procesadas, `agm` contiene las aristas seleccionadas para el Árbol Generador Mínimo. La función devuelve esta lista de aristas como resultado final.\n"
      ],
      "metadata": {
        "id": "_CdTDmEDqrLV"
      }
    },
    {
      "cell_type": "markdown",
      "source": [
        "## Codigo Completo"
      ],
      "metadata": {
        "id": "TH3Ittu6ameA"
      }
    },
    {
      "cell_type": "code",
      "source": [
        "class UnionFind:\n",
        "    def __init__(self, vertices):\n",
        "        # Inicializa cada nodo como su propio padre y establece el rango en 0\n",
        "        self.padre = {v: v for v in vertices}\n",
        "        self.rango = {v: 0 for v in vertices}\n",
        "\n",
        "    def encontrar(self, v):\n",
        "        # Encuentra el representante (raíz) del conjunto al que pertenece v\n",
        "        # Aplica compresión de caminos para optimizar futuras búsquedas\n",
        "        if self.padre[v] != v:\n",
        "            self.padre[v] = self.encontrar(self.padre[v])\n",
        "        return self.padre[v]\n",
        "\n",
        "    def unir(self, u, v):\n",
        "        # Encuentra las raíces de u y v\n",
        "        raiz_u = self.encontrar(u)\n",
        "        raiz_v = self.encontrar(v)\n",
        "\n",
        "        # Si ya están en el mismo conjunto, no hace falta unirlos\n",
        "        if raiz_u == raiz_v:\n",
        "            return False\n",
        "\n",
        "        # Unión por rango: el conjunto de menor rango se une al de mayor rango\n",
        "        if self.rango[raiz_u] < self.rango[raiz_v]:\n",
        "            self.padre[raiz_u] = raiz_v\n",
        "        else:\n",
        "            self.padre[raiz_v] = raiz_u\n",
        "            if self.rango[raiz_u] == self.rango[raiz_v]:\n",
        "                self.rango[raiz_u] += 1\n",
        "        return True\n",
        "\n",
        "def kruskal(grafo):\n",
        "    # Ordena las aristas por peso ascendente\n",
        "    aristas = sorted(grafo, key=lambda x: x[2])\n",
        "\n",
        "    # Obtiene todos los nodos únicos en el grafo\n",
        "    vertices = set()\n",
        "    for arista in grafo:\n",
        "        vertices.update([arista[0], arista[1]])\n",
        "\n",
        "    # Inicializa Union-Find para manejar conjuntos de nodos\n",
        "    union_find = UnionFind(vertices)\n",
        "    agm = []  # Lista que almacenará las aristas del AGM\n",
        "\n",
        "    # Itera sobre las aristas ordenadas\n",
        "    for arista in aristas:\n",
        "        u, v, peso = arista\n",
        "        # Une los conjuntos de u y v si no forman un ciclo y añade la arista al AGM\n",
        "        if union_find.unir(u, v):\n",
        "            agm.append(arista)\n",
        "\n",
        "    return agm\n",
        "\n",
        "if __name__ == \"__main__\":\n",
        "    def imprimir_agm(agm):\n",
        "        # Imprime las aristas del Árbol Generador Mínimo y su peso total\n",
        "        print(\"Aristas del Árbol Generador Mínimo:\")\n",
        "        for arista in agm:\n",
        "            print(f\"{arista[0]} - {arista[1]} con peso {arista[2]}\")\n",
        "        print(f\"Peso total del AGM: {sum([arista[2] for arista in agm])}\\n\")\n",
        "\n",
        "    # Ejemplo 1: Grafo Conectado con Ciclo\n",
        "    print(\"### Ejemplo 1: Grafo Conectado con Ciclo ###\")\n",
        "    grafo1 = [\n",
        "        (1, 2, 4),\n",
        "        (1, 3, 3),\n",
        "        (2, 4, 2),\n",
        "        (3, 4, 5)\n",
        "    ]\n",
        "    agm1 = kruskal(grafo1)\n",
        "    imprimir_agm(agm1)\n",
        "    # Salida esperada:\n",
        "    # Aristas del Árbol Generador Mínimo:\n",
        "    # 2 - 4 con peso 2\n",
        "    # 1 - 3 con peso 3\n",
        "    # 1 - 2 con peso 4\n",
        "    # Peso total del AGM: 9\n",
        "\n",
        "    # Ejemplo 2: Grafo Desconectado (Bosque Generador Mínimo)\n",
        "    print(\"### Ejemplo 2: Grafo Desconectado ###\")\n",
        "    grafo2 = [\n",
        "        (1, 2, 1),\n",
        "        (1, 3, 3),\n",
        "        (4, 5, 2),\n",
        "        (5, 6, 4)\n",
        "    ]\n",
        "    agm2 = kruskal(grafo2)\n",
        "    imprimir_agm(agm2)\n",
        "    # Salida esperada:\n",
        "    # Aristas del Árbol Generador Mínimo:\n",
        "    # 1 - 2 con peso 1\n",
        "    # 4 - 5 con peso 2\n",
        "    # 1 - 3 con peso 3\n",
        "    # 5 - 6 con peso 4\n",
        "    # Peso total del AGM: 10\n",
        "\n",
        "    # Ejemplo 3: Grafo con Aristas de Mismo Peso\n",
        "    print(\"### Ejemplo 3: Grafo con Aristas de Mismo Peso ###\")\n",
        "    grafo3 = [\n",
        "        (1, 2, 2),\n",
        "        (1, 3, 2),\n",
        "        (2, 3, 2),\n",
        "        (2, 4, 3),\n",
        "        (3, 4, 3)\n",
        "    ]\n",
        "    agm3 = kruskal(grafo3)\n",
        "    imprimir_agm(agm3)\n",
        "    # Salida esperada:\n",
        "    # Aristas del Árbol Generador Mínimo:\n",
        "    # 1 - 2 con peso 2\n",
        "    # 1 - 3 con peso 2\n",
        "    # 2 - 4 con peso 3\n",
        "    # Peso total del AGM: 7\n"
      ],
      "metadata": {
        "colab": {
          "base_uri": "https://localhost:8080/"
        },
        "id": "TeRdxMQhlBjv",
        "outputId": "5a9a484d-ffe8-4db1-fa2a-7b6743e35cd8"
      },
      "execution_count": null,
      "outputs": [
        {
          "output_type": "stream",
          "name": "stdout",
          "text": [
            "### Ejemplo 1: Grafo Conectado con Ciclo ###\n",
            "Aristas del Árbol Generador Mínimo:\n",
            "2 - 4 con peso 2\n",
            "1 - 3 con peso 3\n",
            "1 - 2 con peso 4\n",
            "Peso total del AGM: 9\n",
            "\n",
            "### Ejemplo 2: Grafo Desconectado ###\n",
            "Aristas del Árbol Generador Mínimo:\n",
            "1 - 2 con peso 1\n",
            "4 - 5 con peso 2\n",
            "1 - 3 con peso 3\n",
            "5 - 6 con peso 4\n",
            "Peso total del AGM: 10\n",
            "\n",
            "### Ejemplo 3: Grafo con Aristas de Mismo Peso ###\n",
            "Aristas del Árbol Generador Mínimo:\n",
            "1 - 2 con peso 2\n",
            "1 - 3 con peso 2\n",
            "2 - 4 con peso 3\n",
            "Peso total del AGM: 7\n",
            "\n"
          ]
        }
      ]
    }
  ]
}