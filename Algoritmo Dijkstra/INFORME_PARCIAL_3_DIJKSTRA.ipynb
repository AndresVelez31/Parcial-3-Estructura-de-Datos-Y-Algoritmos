{
 "cells": [
  {
   "cell_type": "markdown",
   "metadata": {
    "colab_type": "text",
    "id": "view-in-github"
   },
   "source": [
    "<a href=\"https://colab.research.google.com/github/AndresVelez31/Estructura-de-Datos/blob/main/INFORME_PARCIAL_3_DIJKSTRA.ipynb\" target=\"_parent\"><img src=\"https://colab.research.google.com/assets/colab-badge.svg\" alt=\"Open In Colab\"/></a>"
   ]
  },
  {
   "cell_type": "markdown",
   "metadata": {
    "id": "T5NdQnc-aufS"
   },
   "source": [
    "<h1 align=\"center\">Informe Parcial 3</h1>\n",
    "<h1 align=\"center\">Algoritmo de Dijkstra</h1>"
   ]
  },
  {
   "cell_type": "markdown",
   "metadata": {
    "id": "yzmeooURULVq"
   },
   "source": [
    "\n",
    "*Realizado por: Andres Felipe Velez Alvarez*"
   ]
  },
  {
   "cell_type": "markdown",
   "metadata": {
    "id": "yX3q54F7U6yl"
   },
   "source": [
    "## **Documentacion - Codigo y Descripcion**"
   ]
  },
  {
   "cell_type": "markdown",
   "metadata": {
    "id": "UlHoCRxxVoRC"
   },
   "source": [
    "### Clase `MinHeap`"
   ]
  },
  {
   "cell_type": "markdown",
   "metadata": {
    "id": "kj0vFMjmw9BB"
   },
   "source": [
    "\n",
    "``` python\n",
    "class MinHeap:\n",
    "```\n",
    "\n",
    "La clase `MinHeap` implementa una estructura de datos de montículo mínimo (min-heap), lo que permite extraer el elemento con la menor \"distancia\" de forma eficiente. Este min-heap es útil para el algoritmo de Dijkstra, ya que siempre necesitamos el nodo con la menor distancia en cada paso del algoritmo.\n",
    "\n"
   ]
  },
  {
   "cell_type": "markdown",
   "metadata": {
    "id": "cptA78Mdb36W"
   },
   "source": [
    "#### Metodo `__init__`\n"
   ]
  },
  {
   "cell_type": "markdown",
   "metadata": {
    "id": "P8uyekX6b6zP"
   },
   "source": [
    "\n",
    "```python\n",
    "def __init__(self):\n",
    "      self.heap = []\n",
    "```\n",
    "\n",
    "- ***`self.heap = []`:*** crea un atributo llamado `heap` en la instancia y lo inicializa como una lista vacía.\n",
    "\n",
    "Esta lista `self.heap` será usada para almacenar los elementos del min-heap. Cada elemento en el min-heap es una tupla `(distancia, nodo)`, donde `distancia` es el valor clave para el ordenamiento (generalmente se usa para organizar el min-heap) y `nodo` representa un identificador o valor asociado con la distancia.\n",
    "\n",
    "Esta lista mantendrá el orden de los elementos de manera que el valor mínimo (es decir, el menor `distancia`) siempre esté en la primera posición (`self.heap[0]`). Los métodos de la clase, como `insert`, `pop_min`, `_heapify_up`, y `_heapify_down`, manipulan esta lista para mantener la propiedad del min-heap."
   ]
  },
  {
   "cell_type": "markdown",
   "metadata": {
    "id": "tCvAP_RRjnWH"
   },
   "source": [
    "\n",
    "#### Metodo `insert`"
   ]
  },
  {
   "cell_type": "markdown",
   "metadata": {
    "id": "2BluaTwtjnWH"
   },
   "source": [
    "``` python\n",
    "def insert(self, distancia, nodo):\n",
    "        self.heap.append((distancia, nodo))\n",
    "        self._heapify_up(len(self.heap) - 1)\n",
    "```\n",
    "\n",
    "El método `insert` en la clase `MinHeap` se utiliza para agregar un nuevo elemento al heap. Este método garantiza que el min-heap mantenga su estructura ordenada después de la inserción. Cuando un nuevo elemento se agrega al final del heap, puede ser necesario \"subirlo\" hasta su posición correcta para conservar la propiedad del min-heap, y el método `insert` se encarga de esto.\n",
    "\n",
    "\n",
    "**Parametros del metodo:**\n",
    "```python\n",
    "def insert(self, distancia, nodo):\n",
    "```\n",
    "\n",
    "- ***`self`:*** es una referencia a la instancia actual de la clase `MinHeap`. Esto permite que el método acceda a los atributos de esa instancia, en particular a `self.heap`, que es la lista donde se almacenan los elementos del heap.\n",
    "\n",
    "- ***`distancia`:*** Este parámetro representa el valor de la clave que queremos insertar en el heap. En el contexto de un min-heap, `distancia` es el valor que se utilizará para mantener el orden, donde el valor más pequeño siempre se encuentra en la raíz del heap.\n",
    "\n",
    "- ***`nodo`:*** es el valor asociado con `distancia`, y puede representar cualquier dato adicional que queramos almacenar junto con la clave. En este caso `nodo` es el identificador de un nodo en el grafo.\n",
    "\n",
    "**Funcionamiento del metodo**\n",
    "\n",
    "**1. Agregar el Nuevo Elemento al Final del Heap:**\n",
    "```python\n",
    "self.heap.append((distancia, nodo))\n",
    "```\n",
    "- `self.heap.append((distancia, nodo))` añade el nuevo elemento como una tupla `(distancia, nodo)` al final de la lista `self.heap`.\n",
    "\n",
    "- En un heap representado como una lista, siempre agregamos el nuevo elemento en la última posición.\n",
    "\n",
    "- Después de añadir el nuevo elemento al final, es posible que el orden del min-heap se haya roto, por lo que necesitamos reordenar el heap para mantener su estructura correcta.\n",
    "\n",
    "\n",
    "**2. Llamar a _heapify_up para Reordenar el Heap:**\n",
    "```python\n",
    "self._heapify_up(len(self.heap) - 1)\n",
    "```\n",
    "- Aquí, `len(self.heap) - 1` es el índice del nuevo elemento que acabamos de añadir (siempre es el último índice).\n",
    "\n",
    "- Llamamos a `_heapify_up` con este índice para que el nuevo elemento \"suba\" hasta su posición correcta en el heap.\n",
    "\n",
    "- `_heapify_up` se encarga de comparar el nuevo elemento con sus padres y, si es necesario, intercambiarlo hacia arriba hasta que el min-heap esté correctamente ordenado nuevamente.\n"
   ]
  },
  {
   "cell_type": "markdown",
   "metadata": {
    "id": "DgVtPJydVZr1"
   },
   "source": [
    "\n",
    "#### Metodo `_heapify_up`"
   ]
  },
  {
   "cell_type": "markdown",
   "metadata": {
    "id": "8kjpWb3EqFSd"
   },
   "source": [
    "``` python\n",
    "def _heapify_up(self, indice):\n",
    "        padre = (indice - 1) // 2\n",
    "        if indice > 0 and self.heap[indice][0] < self.heap[padre][0]:\n",
    "            self._intercambiar(indice, padre)\n",
    "            self._heapify_up(padre)\n",
    "```\n",
    "\n",
    "El método `_heapify_up` se usa para reorganizar el heap después de insertar un nuevo elemento en el final de la lista `heap`. La función se asegura de que la propiedad del min-heap se mantenga (es decir, que el valor más pequeño siempre esté en la raíz). Cuando se inserta un elemento en el heap, puede ser necesario \"subirlo\" hacia la raíz para mantener el orden del min-heap, y eso es lo que hace `_heapify_up`.\n",
    "\n",
    "**Parametros del metodo:**\n",
    "```python\n",
    "def _heapify_up(self, indice):\n",
    "```\n",
    "\n",
    "- ***`self`:*** hace referencia a la instancia actual de la clase `MinHeap`. Esto permite que el método acceda al atributo `self.heap`, que es la lista donde se almacenan los elementos del min-heap.\n",
    "\n",
    "- ***`indice`:*** es la posición del elemento que acabamos de insertar en `heap`. Este índice indica dónde comenzar el proceso de \"subida\" para reorganizar el heap y asegurar que la propiedad de min-heap se mantenga.\n",
    "\n",
    "**Funcionamiento del metodo**\n",
    "\n",
    "**1. Calcular el Índice del Padre:**\n",
    "```python\n",
    "padre = (indice - 1) // 2\n",
    "```\n",
    "\n",
    "- Dado el `índice` indice del elemento que acabamos de insertar, calculamos el índice de su nodo padre usando la fórmula `(indice - 1) // 2`.\n",
    "\n",
    "- Esta fórmula es específica para un heap representado como una lista y permite moverse \"hacia arriba\" en el árbol binario, ya que en un heap almacenado en una lista:\n",
    "  - El nodo en la posición `i` tiene como padre el nodo en la posición `(i - 1) // 2`.\n",
    "\n",
    "\n",
    "**2. Comparar el Elemento con su Padre:**\n",
    "```python\n",
    "if indice > 0 and self.heap[indice][0] < self.heap[padre][0]:\n",
    "```\n",
    "- Primero, verificamos que `indice > 0` para asegurarnos de que no estamos en la raíz del heap. La raíz no tiene padre, por lo que no necesita comparación ni movimiento.\n",
    "\n",
    "- Luego, comparamos el valor del elemento en `indice` con el valor de su padre en `padre`. Aquí, `self.heap[indice][0]` es la clave (o valor) que estamos usando para ordenar el heap.\n",
    "\n",
    "- Si el valor del elemento en `indice` es menor que el valor de su padre, significa que el min-heap está desordenado en este punto, ya que en un min-heap cada nodo padre debe ser menor o igual que sus hijos.\n",
    "\n",
    "\n",
    "**3. Intercambiar el Elemento con su Padre:**\n",
    "```python\n",
    "self._intercambiar(indice, padre)\n",
    "```\n",
    "\n",
    "- Si la condición anterior se cumple (es decir, el elemento en `indice` es menor que su padre), intercambiamos ambos elementos en el heap.\n",
    "\n",
    "- `_intercambiar(indice, padre)` es un método auxiliar que simplemente intercambia los elementos en las posiciones `indice` y `padre` de `self.heap`.\n",
    "\n",
    "- Este intercambio mueve el elemento más pequeño un nivel hacia arriba en el árbol, acercándolo a su posición correcta.\n",
    "\n",
    "\n",
    "**4. Llamada Recursiva para Continuar la \"Subida\":**\n",
    "```python\n",
    "self._heapify_up(padre)\n",
    "```\n",
    "\n",
    "- Después del intercambio, el elemento en `indice` ahora se encuentra en la posición `padre`.\n",
    "\n",
    "- Para asegurarnos de que el heap mantenga la propiedad de min-heap en niveles superiores, llamamos a `_heapify_up` recursivamente con el índice `padre`.\n",
    "\n",
    "- La recursión continúa hasta que el elemento alcanza su posición correcta en el heap (donde ya no es menor que su padre) o hasta que alcanza la raíz."
   ]
  },
  {
   "cell_type": "markdown",
   "metadata": {
    "id": "eauj2TJolztJ"
   },
   "source": [
    "\n",
    "#### Metodo `_intercambiar`"
   ]
  },
  {
   "cell_type": "markdown",
   "metadata": {
    "id": "_x0DdGsllztP"
   },
   "source": [
    "``` python\n",
    "def _intercambiar(self, i, j):\n",
    "        self.heap[i], self.heap[j] = self.heap[j], self.heap[i]\n",
    "```\n",
    "\n",
    "El método `_intercambiar` en la clase `MinHeap` intercambia dos elementos en el heap, que está representado como una lista (`self.heap`). Específicamente, toma dos índices y coloca el elemento en el índice `i` en la posición `j` y viceversa. Este método es fundamental en los procesos de reorganización del heap, como en `_heapify_up` y `_heapify_down`, que mantienen la propiedad de min-heap después de una inserción o extracción.\n",
    "\n",
    "**Parametros del metodo:**\n",
    "```python\n",
    "def _intercambiar(self, i, j):\n",
    "```\n",
    "\n",
    "- ***`self`:*** hace referencia a la instancia actual de la clase `MinHeap`. Esto permite que el método acceda al atributo `self.heap`, que es la lista donde se almacenan los elementos del min-heap.\n",
    "\n",
    "- ***`i`:*** Índice del primer elemento en `self.heap` que será intercambiado.\n",
    "\n",
    "- ***`j`:*** Índice del segundo elemento en `self.heap` que será intercambiado con el primero.\n",
    "\n",
    "**Funcionamiento del metodo**\n",
    "\n",
    "**1. Intercambio de Elementos:**\n",
    "```python\n",
    "self.heap[i], self.heap[j] = self.heap[j], self.heap[i]\n",
    "```\n",
    "\n",
    "- Esta línea intercambia los elementos en las posiciones `i` y `j` de `self.heap`.\n",
    "\n",
    "- En Python, esta asignación simultánea permite intercambiar los valores sin necesidad de una variable temporal.\n",
    "\n",
    "- Después de ejecutar esta línea, el elemento que estaba en `i` se encuentra ahora en `j`, y el elemento que estaba en `j` está ahora en `i`."
   ]
  },
  {
   "cell_type": "markdown",
   "metadata": {
    "id": "Na6GG__rgzrd"
   },
   "source": [
    "\n",
    "#### Metodo `pop_min`"
   ]
  },
  {
   "cell_type": "markdown",
   "metadata": {
    "id": "CgDMYnKSgzri"
   },
   "source": [
    "``` python\n",
    "def pop_min(self):\n",
    "        if not self.heap:\n",
    "            return None\n",
    "\n",
    "        self._intercambiar(0, len(self.heap) - 1)\n",
    "        min_elemento = self.heap.pop()\n",
    "        self._heapify_down(0)\n",
    "        return min_elemento\n",
    "```\n",
    "\n",
    "El método `pop_min` en la clase `MinHeap` se utiliza para extraer y devolver el elemento con la menor \"distancia\" en el heap. En un min-heap, el elemento con el valor mínimo siempre se encuentra en la raíz, que está en la posición `0` de la lista. Este método mantiene la propiedad del min-heap después de extraer el elemento mínimo.\n",
    "\n",
    "**Parametros del metodo:**\n",
    "```python\n",
    "def pop_min(self):\n",
    "```\n",
    "\n",
    "- ***`self`:*** es una referencia a la instancia actual de la clase `MinHeap`. Con `self`, el método puede acceder a los atributos de esta instancia en particular, como `self.heap`, que es la lista que contiene los elementos del heap. Esto permite que el método trabaje directamente sobre el heap de la instancia.\n",
    "\n",
    "**Funcionamiento del metodo**\n",
    "\n",
    "**1. Verificar si el Heap Está Vacío:**\n",
    "```python\n",
    "if not self.heap:\n",
    "    return None\n",
    "```\n",
    "\n",
    "- Aquí, el método verifica si `self.heap` está vacío. Si `self.heap` es una lista vacía (`[]`), significa que no hay elementos en el heap para extraer, y el método devuelve `None`.\n",
    "- Esta verificación es importante porque, sin ella, intentar acceder o manipular elementos en un heap vacío causaría un error.\n",
    "\n",
    "\n",
    "**2. Intercambiar la Raíz con el Último Elemento:**\n",
    "```python\n",
    "self._intercambiar(0, len(self.heap) - 1)\n",
    "```\n",
    "- La raíz del heap (posición `0`) contiene el elemento con el valor mínimo.\n",
    "\n",
    "- Este paso intercambia la raíz con el último elemento del heap (ubicado en `len(self.heap) - 1`). Este intercambio permite que el método `pop` (que elimina el último elemento de la lista) extraiga el valor mínimo del heap.\n",
    "\n",
    "- `_intercambiar(0, len(self.heap) - 1)` es una función auxiliar que realiza este intercambio en self.heap.\n",
    "\n",
    "\n",
    "**3. Eliminar el Último Elemento (que es el Mínimo):**\n",
    "```python\n",
    "min_elemento = self.heap.pop()\n",
    "```\n",
    "\n",
    "- `self.heap.pop()` elimina y devuelve el último elemento de la lista `self.heap`.\n",
    "\n",
    "- Dado que en el paso anterior intercambiamos la raíz con el último elemento, ahora el último elemento de la lista es en realidad el elemento mínimo del heap.\n",
    "\n",
    "- Este elemento mínimo se almacena en la variable `min_elemento`, que será el valor devuelto al final del método.\n",
    "\n",
    "\n",
    "**4. Reordenar el Heap con `_heapify_down`:**\n",
    "```python\n",
    "self._heapify_down(0)\n",
    "```\n",
    "\n",
    "- Después de eliminar el mínimo, el último elemento (que fue movido a la raíz en el paso de intercambio) se encuentra ahora en la posición `0`.\n",
    "\n",
    "- Para restaurar la propiedad del min-heap, llamamos al método `_heapify_down(0)`, que reorganiza el heap desde la raíz hacia abajo.\n",
    "\n",
    "- `_heapify_down` asegura que el valor mínimo se mantenga en la raíz y que el orden del min-heap sea correcto.\n",
    "\n",
    "\n",
    "**5. Devolver el Elemento Mínimo**\n",
    "```python\n",
    "return min_elemento\n",
    "```\n",
    "\n",
    "Finalmente, el método devuelve `min_elemento`, que es el elemento mínimo extraído del heap.\n"
   ]
  },
  {
   "cell_type": "markdown",
   "metadata": {
    "id": "O_JqK0H9nl5n"
   },
   "source": [
    "\n",
    "#### Metodo `_heapify_down`"
   ]
  },
  {
   "cell_type": "markdown",
   "metadata": {
    "id": "h9hpIsSenl5s"
   },
   "source": [
    "``` python\n",
    "  def _heapify_down(self, indice):\n",
    "        mas_pequeño = indice\n",
    "        izquierda = 2 * indice + 1\n",
    "        derecha = 2 * indice + 2\n",
    "\n",
    "        if izquierda < len(self.heap) and self.heap[izquierda][0] < self.heap[mas_pequeño][0]:\n",
    "            mas_pequeño = izquierda\n",
    "        if derecha < len(self.heap) and self.heap[derecha][0] < self.heap[mas_pequeño][0]:\n",
    "            mas_pequeño = derecha\n",
    "        if mas_pequeño != indice:\n",
    "            self._intercambiar(indice, mas_pequeño)\n",
    "            self._heapify_down(mas_pequeño)\n",
    "```\n",
    "\n",
    "El método `_heapify_down` reordena el heap desde la raíz hacia abajo para mantener la propiedad del min-heap (donde el valor mínimo siempre debe estar en la raíz). Este método es útil después de eliminar el elemento mínimo (la raíz), ya que el último elemento del heap se coloca temporalmente en la raíz, lo que puede romper la estructura de min-heap.\n",
    "\n",
    "**Parametros del metodo:**\n",
    "```python\n",
    "  def _heapify_down(self, indice):\n",
    "```\n",
    "\n",
    "- ***`self`:*** hace referencia a la instancia actual de la clase `MinHeap`. Esto permite que el método acceda al atributo `self.heap`, que es la lista donde se almacenan los elementos del min-heap.\n",
    "\n",
    "- ***`indice`:*** es la posición del nodo que queremos ajustar hacia abajo en el heap, normalmente la raíz (0) después de eliminar el mínimo. `_heapify_down` reordenará este nodo hacia su posición correcta.\n",
    "\n",
    "**Funcionamiento del metodo**\n",
    "\n",
    "**1. Inicialización**\n",
    "```python\n",
    "  mas_pequeño = indice\n",
    "  izquierda = 2 * indice + 1\n",
    "  derecha = 2 * indice + 2\n",
    "```\n",
    "\n",
    "- `mas_pequeño` se inicializa en el índice del nodo que estamos ajustando.\n",
    "- `izquierda` y `derecha` son los índices de los hijos izquierdo y derecho del nodo en `indice`, calculados usando la fórmula para hijos en un heap almacenado en una lista:\n",
    "  - Hijo izquierdo de `i` = `2 * i + 1`\n",
    "  - Hijo derecho de `i` = `2 * i + 2`\n",
    "\n",
    "**2. Comparar con el Hijo Izquierdo:**\n",
    "```python\n",
    "  if izquierda < len(self.heap) and self.heap[izquierda][0] < self.heap[mas_pequeño][0]:\n",
    "      mas_pequeño = izquierda\n",
    "```\n",
    "- Primero, verificamos si el índice `izquierda` es válido (dentro del rango de la lista `self.heap`).\n",
    "\n",
    "- Luego, comparamos el valor en `izquierda` con el valor en `mas_pequeño`.\n",
    "\n",
    "- Si el valor en el hijo izquierdo es menor, actualizamos `mas_pequeño` para que apunte al hijo izquierdo. Esto significa que el hijo izquierdo debería estar más arriba en el heap que el nodo actual.\n",
    "\n",
    "\n",
    "**3. Comparar con el Hijo Derecho:**\n",
    "```python\n",
    "  if derecha < len(self.heap) and self.heap[derecha][0] < self.heap[mas_pequeño][0]:\n",
    "      mas_pequeño = derecha\n",
    "```\n",
    "\n",
    "- Similar a la comparación con el hijo izquierdo, verificamos si `derecha` es un índice válido.\n",
    "\n",
    "- Si el valor en el hijo derecho es menor que el valor en `mas_pequeño` (que ahora podría ser el nodo actual o el hijo izquierdo), actualizamos `mas_pequeño` para que apunte al hijo derecho.\n",
    "\n",
    "\n",
    "**4. Intercambiar si es Necesario y Continuar Bajando:**\n",
    "```python\n",
    "  if mas_pequeño != indice:\n",
    "      self._intercambiar(indice, mas_pequeño)\n",
    "      self._heapify_down(mas_pequeño)\n",
    "```\n",
    "\n",
    "- Si `mas_pequeño` ha cambiado (es decir, uno de los hijos es menor que el nodo actual), intercambiamos el nodo actual con el hijo menor.\n",
    "\n",
    "- Luego, llamamos recursivamente a `_heapify_down` en el nuevo índice de `mas_pequeño` (el índice al que bajó el nodo actual).\n",
    "\n",
    "- Esto asegura que el nodo se mueva hacia abajo hasta su posición correcta en el heap, restaurando la propiedad de min-heap en cada nivel del árbol."
   ]
  },
  {
   "cell_type": "markdown",
   "metadata": {
    "id": "UE-F1ELCp0iE"
   },
   "source": [
    "\n",
    "#### Metodo `is_empty`"
   ]
  },
  {
   "cell_type": "markdown",
   "metadata": {
    "id": "j04a2Jnap0iJ"
   },
   "source": [
    "``` python\n",
    "def is_empty(self):\n",
    "        return len(self.heap) == 0\n",
    "```\n",
    "\n",
    "El método `is_empty` verifica si el heap está vacío. Este método es útil para determinar si hay elementos en el heap antes de realizar operaciones como `pop_min`, que extrae el elemento mínimo. Si el heap está vacío, `pop_min` no debería intentar extraer nada.\n",
    "\n",
    "**Parametros del metodo:**\n",
    "```python\n",
    "def is_empty(self):\n",
    "```\n",
    "\n",
    "- ***`self`:*** es una referencia a la instancia actual de la clase `MinHeap`. Con `self`, el método puede acceder a los atributos de esta instancia en particular, como `self.heap`, que es la lista que contiene los elementos del heap. Esto permite que el método trabaje directamente sobre el heap de la instancia.\n",
    "\n",
    "**Funcionamiento del metodo**\n",
    "\n",
    "**1. Verificar si el Heap Está Vacío:**\n",
    "```python\n",
    "  return len(self.heap) == 0\n",
    "```\n",
    "\n",
    "- El método devuelve el resultado de la comparación `len(self.heap) == 0`.\n",
    "  - `len(self.heap):` Obtiene el número de elementos en `self.heap`.\n",
    "  - `== 0:` Compara este número con `0`. Si el número de elementos es 0, la comparación es `True`; de lo contrario, es `False`.\n",
    "\n",
    "- Si `self.heap` está vacío (es decir, no tiene elementos), el método devuelve `True`.\n",
    "\n",
    "- Si `self.heap` contiene uno o más elementos, el método devuelve `False`.\n"
   ]
  },
  {
   "cell_type": "markdown",
   "metadata": {
    "id": "8s_pQfBLqrLQ"
   },
   "source": [
    "\n",
    "### Metodo `dijkstra`"
   ]
  },
  {
   "cell_type": "markdown",
   "metadata": {
    "id": "_CdTDmEDqrLV"
   },
   "source": [
    "``` python\n",
    "  def dijkstra(grafo, inicio):\n",
    "      distancias = {nodo: float('inf') for nodo in grafo}\n",
    "      distancias[inicio] = 0\n",
    "\n",
    "      min_heap = MinHeap()\n",
    "      min_heap.insert(0, inicio)\n",
    "\n",
    "      visitados = set()\n",
    "\n",
    "      while not min_heap.is_empty():\n",
    "          distancia_actual, nodo_actual = min_heap.pop_min()\n",
    "\n",
    "          if nodo_actual in visitados:\n",
    "              continue\n",
    "\n",
    "          visitados.add(nodo_actual)\n",
    "\n",
    "          for vecino, peso in grafo[nodo_actual]:\n",
    "              distancia_tentativa = distancia_actual + peso\n",
    "\n",
    "              if distancia_tentativa < distancias[vecino]:\n",
    "                  distancias[vecino] = distancia_tentativa\n",
    "                  min_heap.insert(distancia_tentativa, vecino)\n",
    "\n",
    "      return distancias\n",
    "```\n",
    "\n",
    "El método `dijkstra` encuentra el camino más corto desde un nodo de inicio a todos los demás nodos en un grafo ponderado usando un min-heap para mejorar la eficiencia. Este algoritmo es útil en situaciones donde necesitas calcular distancias mínimas, como en redes de rutas o sistemas de navegación.\n",
    "\n",
    "**Parametros del metodo:**\n",
    "```python\n",
    "  def dijkstra(grafo, inicio):\n",
    "```\n",
    "\n",
    "- ***`grafo`:*** Un diccionario de listas de adyacencia que representa el grafo. Cada clave en el diccionario es un nodo, y el valor asociado es una lista de tuplas `(vecino, peso)`, donde `vecino` es el nodo conectado y `peso` es el costo de la arista hacia ese vecino.\n",
    "\n",
    "- ***`inicio`:*** El nodo desde el cual se calcularán las distancias más cortas. Este nodo es el punto de partida del algoritmo.\n",
    "\n",
    "**Funcionamiento del metodo**\n",
    "\n",
    "**1. Inicializar Distancias:**\n",
    "```python\n",
    "  distancias = {nodo: float('inf') for nodo in grafo}\n",
    "  distancias[inicio] = 0\n",
    "```\n",
    "\n",
    "- Se crea un diccionario `distancias` que almacena la distancia mínima desde el nodo `inicio` a cada otro nodo en el grafo.\n",
    "\n",
    "- Inicialmente, todas las distancias se establecen en infinito (`float('inf')`), excepto la distancia desde el nodo de inicio hacia sí mismo, que es `0`.\n",
    "\n",
    "\n",
    "**2. Inicializar el Min-Heap:**\n",
    "```python\n",
    "  min_heap = MinHeap()\n",
    "  min_heap.insert(0, inicio)\n",
    "\n",
    "```\n",
    "- Se crea una instancia de `MinHeap`, que se usará para almacenar los nodos junto con sus distancias.\n",
    "\n",
    "- El nodo de inicio se inserta en el min-heap con una distancia de `0`.\n",
    "\n",
    "\n",
    "**3. Crear un Conjunto de Nodos Visitados:**\n",
    "```python\n",
    "  visitados = set()\n",
    "```\n",
    "\n",
    "- `visitados` es un conjunto que almacena los nodos que ya han sido procesados. Esto evita recalcular distancias para nodos que ya tienen la distancia mínima confirmada.\n",
    "\n",
    "\n",
    "**4. Bucle Principal:**\n",
    "```python\n",
    "  while not min_heap.is_empty():\n",
    "\n",
    "```\n",
    "\n",
    "- El bucle se ejecuta mientras el min-heap no esté vacío.\n",
    "\n",
    "- En cada iteración, el nodo con la menor distancia en el heap es procesado.\n",
    "\n",
    "\n",
    "**5. Extraer el Nodo con la Menor Distancia:**\n",
    "```python\n",
    "  distancia_actual, nodo_actual = min_heap.pop_min()\n",
    "```\n",
    "\n",
    "- Se extrae el nodo con la menor distancia (`distancia_actual`, `nodo_actual`) del min-heap.\n",
    "\n",
    "- `pop_min` devuelve el nodo en la raíz del heap, que tiene la menor distancia debido a la estructura del min-heap.\n",
    "\n",
    "\n",
    "**6. Verificar si el Nodo ya fue Visitado:**\n",
    "```python\n",
    "  if nodo_actual in visitados:\n",
    "      continue\n",
    "```\n",
    "- Si `nodo_actual` ya está en `visitados`, saltamos al siguiente ciclo del bucle, ya que su distancia mínima ya ha sido confirmada.\n",
    "\n",
    "- Esto previene recalcular caminos para nodos ya procesados.\n",
    "\n",
    "\n",
    "**7. Marcar el Nodo como Visitado:**\n",
    "```python\n",
    "  visitados.add(nodo_actual)\n",
    "```\n",
    "El nodo actual se añade al conjunto visitados para evitar revisitarlo.\n",
    "\n",
    "\n",
    "**8. Actualizar las Distancias de los Vecinos:**\n",
    "```python\n",
    "  for vecino, peso in grafo[nodo_actual]:\n",
    "      distancia_tentativa = distancia_actual + peso\n",
    "      if distancia_tentativa < distancias[vecino]:\n",
    "          distancias[vecino] = distancia_tentativa\n",
    "          min_heap.insert(distancia_tentativa, vecino)\n",
    "```\n",
    "- Para cada vecino del `nodo_actual`, calcula una `distancia_tentativa` como la suma de `distancia_actual` y el `peso` de la arista hacia el vecino.\n",
    "\n",
    "- Si `distancia_tentativa` es menor que la distancia registrada en `distancias[vecino]`, se actualiza la distancia en `distancias` y se inserta el vecino en el min-heap con la nueva distancia.\n",
    "\n",
    "- Esta actualización asegura que el min-heap siempre contenga el nodo accesible con la menor distancia en la raíz.\n",
    "\n",
    "\n",
    "**9. Retornar el Diccionario de Distancias:**\n",
    "```python\n",
    "  return distancias\n",
    "```\n",
    "- Cuando el bucle principal termina, el diccionario `distancias` contiene las distancias mínimas desde el nodo de inicio a cada nodo accesible en el grafo.\n",
    "\n",
    "- Este diccionario se devuelve como resultado."
   ]
  },
  {
   "cell_type": "markdown",
   "metadata": {
    "id": "TH3Ittu6ameA"
   },
   "source": [
    "## Codigo Completo"
   ]
  },
  {
   "cell_type": "code",
   "execution_count": null,
   "metadata": {
    "colab": {
     "base_uri": "https://localhost:8080/"
    },
    "id": "TeRdxMQhlBjv",
    "outputId": "9fe84358-4cfd-4efc-daaa-bb0bd9fb0c5a"
   },
   "outputs": [
    {
     "name": "stdout",
     "output_type": "stream",
     "text": [
      "Caminos más cortos desde el nodo 1:\n",
      " - Para el nodo 1: 0 de distancia\n",
      " - Para el nodo 2: 3 de distancia\n",
      " - Para el nodo 3: 1 de distancia\n",
      " - Para el nodo 4: 8 de distancia\n"
     ]
    }
   ],
   "source": [
    "class MinHeap:\n",
    "    def __init__(self):\n",
    "        self.heap = []\n",
    "\n",
    "    def insert(self, distancia, nodo):\n",
    "        # Añadir el nuevo elemento al final y reordenar\n",
    "        self.heap.append((distancia, nodo))\n",
    "        self._heapify_up(len(self.heap) - 1)\n",
    "\n",
    "    def _heapify_up(self, indice):\n",
    "        padre = (indice - 1) // 2\n",
    "        if indice > 0 and self.heap[indice][0] < self.heap[padre][0]:\n",
    "            self._intercambiar(indice, padre)\n",
    "            self._heapify_up(padre)\n",
    "\n",
    "    def _intercambiar(self, i, j):\n",
    "        # Intercambia correctamente los elementos en las posiciones i y j\n",
    "        self.heap[i], self.heap[j] = self.heap[j], self.heap[i]\n",
    "\n",
    "    def pop_min(self):\n",
    "        if not self.heap:\n",
    "            return None\n",
    "        # Intercambiar la raíz con el último elemento, quitar el mínimo y reordenar\n",
    "        self._intercambiar(0, len(self.heap) - 1)\n",
    "        min_elemento = self.heap.pop()\n",
    "        self._heapify_down(0)\n",
    "        return min_elemento\n",
    "\n",
    "    def _heapify_down(self, indice):\n",
    "        mas_pequeño = indice\n",
    "        izquierda = 2 * indice + 1\n",
    "        derecha = 2 * indice + 2\n",
    "\n",
    "        if izquierda < len(self.heap) and self.heap[izquierda][0] < self.heap[mas_pequeño][0]:\n",
    "            mas_pequeño = izquierda\n",
    "        if derecha < len(self.heap) and self.heap[derecha][0] < self.heap[mas_pequeño][0]:\n",
    "            mas_pequeño = derecha\n",
    "        if mas_pequeño != indice:\n",
    "            self._intercambiar(indice, mas_pequeño)\n",
    "            self._heapify_down(mas_pequeño)\n",
    "\n",
    "    def is_empty(self):\n",
    "        return len(self.heap) == 0\n",
    "\n",
    "\n",
    "def dijkstra(grafo, inicio):\n",
    "    # Inicializar distancias con infinito para todos los nodos excepto el nodo de inicio\n",
    "    distancias = {nodo: float('inf') for nodo in grafo}\n",
    "    distancias[inicio] = 0\n",
    "\n",
    "    # Crear el min-heap e insertar el nodo de inicio con distancia 0\n",
    "    min_heap = MinHeap()\n",
    "    min_heap.insert(0, inicio)\n",
    "\n",
    "    # Conjunto de nodos ya visitados\n",
    "    visitados = set()\n",
    "\n",
    "    while not min_heap.is_empty():\n",
    "        # Extraer el nodo con la menor distancia\n",
    "        distancia_actual, nodo_actual = min_heap.pop_min()\n",
    "\n",
    "        # Si ya visitamos este nodo, continuamos\n",
    "        if nodo_actual in visitados:\n",
    "            continue\n",
    "\n",
    "        # Marca el nodo como visitado\n",
    "        visitados.add(nodo_actual)\n",
    "\n",
    "        # Para cada vecino del nodo actual\n",
    "        for vecino, peso in grafo[nodo_actual]:\n",
    "            # Calcula la distancia tentativa\n",
    "            distancia_tentativa = distancia_actual + peso\n",
    "\n",
    "            # Si la distancia tentativa es menor, se actualiza\n",
    "            if distancia_tentativa < distancias[vecino]:\n",
    "                distancias[vecino] = distancia_tentativa\n",
    "                min_heap.insert(distancia_tentativa, vecino)\n",
    "\n",
    "    return distancias\n",
    "\n",
    "# Ejemplo de uso\n",
    "grafo = {\n",
    "    1: [(2, 4), (3, 1)],\n",
    "    2: [(1, 4), (3, 2), (4, 5)],\n",
    "    3: [(1, 1), (2, 2), (4, 8)],\n",
    "    4: [(2, 5), (3, 8)]\n",
    "}\n",
    "\n",
    "inicio = 1  # Nodo de inicio especificado\n",
    "distancias = dijkstra(grafo, inicio)\n",
    "\n",
    "print(f\"Caminos más cortos desde el nodo {inicio}:\")\n",
    "\n",
    "# Formatear la salida para que cada nodo y su distancia se muestren en una línea separada\n",
    "for nodo, distancia in distancias.items():\n",
    "    print(f\" - Para el nodo {nodo}: {distancia} de distancia\")\n",
    "\n"
   ]
  }
 ],
 "metadata": {
  "colab": {
   "collapsed_sections": [
    "cptA78Mdb36W",
    "tCvAP_RRjnWH",
    "DgVtPJydVZr1",
    "eauj2TJolztJ",
    "Na6GG__rgzrd",
    "O_JqK0H9nl5n",
    "UE-F1ELCp0iE",
    "8s_pQfBLqrLQ"
   ],
   "include_colab_link": true,
   "provenance": []
  },
  "kernelspec": {
   "display_name": "Python 3",
   "name": "python3"
  },
  "language_info": {
   "name": "python"
  }
 },
 "nbformat": 4,
 "nbformat_minor": 0
}
